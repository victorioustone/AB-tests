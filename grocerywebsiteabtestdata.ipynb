{
 "cells": [
  {
   "cell_type": "code",
   "execution_count": 1,
   "id": "75ae4bd0",
   "metadata": {},
   "outputs": [],
   "source": [
    "import pandas as pd "
   ]
  },
  {
   "cell_type": "markdown",
   "id": "4a5f5b11",
   "metadata": {},
   "source": [
    "**RecordID** - identifier of the row of data   \n",
    "**IP Address** - address of the user, who is visiting website   \n",
    "**LoggedInFlag** - when user has an account and logged in   \n",
    "**ServerID** - one of the servers user was routed through   \n",
    "**VisitPageFlag** - when user clicked on the loyalty program page   "
   ]
  },
  {
   "cell_type": "markdown",
   "id": "fc91f4b5",
   "metadata": {},
   "source": [
    "Changing (the element being tested) from ___________ to ___________ will increase/decrease ratio of those who enter the target page.   \n",
    "So the ratio of those who visit the target page should been calculated. "
   ]
  },
  {
   "cell_type": "code",
   "execution_count": 2,
   "id": "8bdf7098",
   "metadata": {},
   "outputs": [
    {
     "data": {
      "text/html": [
       "<div>\n",
       "<style scoped>\n",
       "    .dataframe tbody tr th:only-of-type {\n",
       "        vertical-align: middle;\n",
       "    }\n",
       "\n",
       "    .dataframe tbody tr th {\n",
       "        vertical-align: top;\n",
       "    }\n",
       "\n",
       "    .dataframe thead th {\n",
       "        text-align: right;\n",
       "    }\n",
       "</style>\n",
       "<table border=\"1\" class=\"dataframe\">\n",
       "  <thead>\n",
       "    <tr style=\"text-align: right;\">\n",
       "      <th></th>\n",
       "      <th>RecordID</th>\n",
       "      <th>IP Address</th>\n",
       "      <th>LoggedInFlag</th>\n",
       "      <th>ServerID</th>\n",
       "      <th>VisitPageFlag</th>\n",
       "    </tr>\n",
       "  </thead>\n",
       "  <tbody>\n",
       "    <tr>\n",
       "      <th>0</th>\n",
       "      <td>1</td>\n",
       "      <td>39.13.114.2</td>\n",
       "      <td>1</td>\n",
       "      <td>2</td>\n",
       "      <td>0</td>\n",
       "    </tr>\n",
       "    <tr>\n",
       "      <th>1</th>\n",
       "      <td>2</td>\n",
       "      <td>13.3.25.8</td>\n",
       "      <td>1</td>\n",
       "      <td>1</td>\n",
       "      <td>0</td>\n",
       "    </tr>\n",
       "    <tr>\n",
       "      <th>2</th>\n",
       "      <td>3</td>\n",
       "      <td>247.8.211.8</td>\n",
       "      <td>1</td>\n",
       "      <td>1</td>\n",
       "      <td>0</td>\n",
       "    </tr>\n",
       "    <tr>\n",
       "      <th>3</th>\n",
       "      <td>4</td>\n",
       "      <td>124.8.220.3</td>\n",
       "      <td>0</td>\n",
       "      <td>3</td>\n",
       "      <td>0</td>\n",
       "    </tr>\n",
       "    <tr>\n",
       "      <th>4</th>\n",
       "      <td>5</td>\n",
       "      <td>60.10.192.7</td>\n",
       "      <td>0</td>\n",
       "      <td>2</td>\n",
       "      <td>0</td>\n",
       "    </tr>\n",
       "    <tr>\n",
       "      <th>5</th>\n",
       "      <td>6</td>\n",
       "      <td>23.5.199.2</td>\n",
       "      <td>1</td>\n",
       "      <td>3</td>\n",
       "      <td>0</td>\n",
       "    </tr>\n",
       "    <tr>\n",
       "      <th>6</th>\n",
       "      <td>7</td>\n",
       "      <td>195.12.126.2</td>\n",
       "      <td>1</td>\n",
       "      <td>1</td>\n",
       "      <td>0</td>\n",
       "    </tr>\n",
       "    <tr>\n",
       "      <th>7</th>\n",
       "      <td>8</td>\n",
       "      <td>97.6.126.6</td>\n",
       "      <td>0</td>\n",
       "      <td>3</td>\n",
       "      <td>1</td>\n",
       "    </tr>\n",
       "    <tr>\n",
       "      <th>8</th>\n",
       "      <td>9</td>\n",
       "      <td>93.10.165.4</td>\n",
       "      <td>1</td>\n",
       "      <td>1</td>\n",
       "      <td>0</td>\n",
       "    </tr>\n",
       "    <tr>\n",
       "      <th>9</th>\n",
       "      <td>10</td>\n",
       "      <td>180.3.76.4</td>\n",
       "      <td>1</td>\n",
       "      <td>1</td>\n",
       "      <td>0</td>\n",
       "    </tr>\n",
       "    <tr>\n",
       "      <th>10</th>\n",
       "      <td>11</td>\n",
       "      <td>32.6.213.1</td>\n",
       "      <td>0</td>\n",
       "      <td>2</td>\n",
       "      <td>0</td>\n",
       "    </tr>\n",
       "    <tr>\n",
       "      <th>11</th>\n",
       "      <td>12</td>\n",
       "      <td>235.16.61.7</td>\n",
       "      <td>1</td>\n",
       "      <td>3</td>\n",
       "      <td>0</td>\n",
       "    </tr>\n",
       "    <tr>\n",
       "      <th>12</th>\n",
       "      <td>13</td>\n",
       "      <td>188.13.62.2</td>\n",
       "      <td>0</td>\n",
       "      <td>3</td>\n",
       "      <td>0</td>\n",
       "    </tr>\n",
       "    <tr>\n",
       "      <th>13</th>\n",
       "      <td>14</td>\n",
       "      <td>107.14.58.2</td>\n",
       "      <td>0</td>\n",
       "      <td>2</td>\n",
       "      <td>0</td>\n",
       "    </tr>\n",
       "    <tr>\n",
       "      <th>14</th>\n",
       "      <td>15</td>\n",
       "      <td>234.1.239.1</td>\n",
       "      <td>0</td>\n",
       "      <td>2</td>\n",
       "      <td>0</td>\n",
       "    </tr>\n",
       "  </tbody>\n",
       "</table>\n",
       "</div>"
      ],
      "text/plain": [
       "    RecordID    IP Address  LoggedInFlag  ServerID  VisitPageFlag\n",
       "0          1   39.13.114.2             1         2              0\n",
       "1          2     13.3.25.8             1         1              0\n",
       "2          3   247.8.211.8             1         1              0\n",
       "3          4   124.8.220.3             0         3              0\n",
       "4          5   60.10.192.7             0         2              0\n",
       "5          6    23.5.199.2             1         3              0\n",
       "6          7  195.12.126.2             1         1              0\n",
       "7          8    97.6.126.6             0         3              1\n",
       "8          9   93.10.165.4             1         1              0\n",
       "9         10    180.3.76.4             1         1              0\n",
       "10        11    32.6.213.1             0         2              0\n",
       "11        12   235.16.61.7             1         3              0\n",
       "12        13   188.13.62.2             0         3              0\n",
       "13        14   107.14.58.2             0         2              0\n",
       "14        15   234.1.239.1             0         2              0"
      ]
     },
     "execution_count": 2,
     "metadata": {},
     "output_type": "execute_result"
    }
   ],
   "source": [
    "df = pd.read_csv('data/grocerywebsiteabtestdata.csv')\n",
    "df.head(15)"
   ]
  },
  {
   "cell_type": "code",
   "execution_count": 3,
   "id": "0f243001",
   "metadata": {},
   "outputs": [
    {
     "data": {
      "text/html": [
       "<div>\n",
       "<style scoped>\n",
       "    .dataframe tbody tr th:only-of-type {\n",
       "        vertical-align: middle;\n",
       "    }\n",
       "\n",
       "    .dataframe tbody tr th {\n",
       "        vertical-align: top;\n",
       "    }\n",
       "\n",
       "    .dataframe thead th {\n",
       "        text-align: right;\n",
       "    }\n",
       "</style>\n",
       "<table border=\"1\" class=\"dataframe\">\n",
       "  <thead>\n",
       "    <tr style=\"text-align: right;\">\n",
       "      <th></th>\n",
       "      <th>RecordID</th>\n",
       "      <th>LoggedInFlag</th>\n",
       "      <th>ServerID</th>\n",
       "      <th>VisitPageFlag</th>\n",
       "    </tr>\n",
       "  </thead>\n",
       "  <tbody>\n",
       "    <tr>\n",
       "      <th>count</th>\n",
       "      <td>184588.000000</td>\n",
       "      <td>184588.000000</td>\n",
       "      <td>184588.000000</td>\n",
       "      <td>184588.000000</td>\n",
       "    </tr>\n",
       "    <tr>\n",
       "      <th>mean</th>\n",
       "      <td>92294.500000</td>\n",
       "      <td>0.503657</td>\n",
       "      <td>1.999691</td>\n",
       "      <td>0.058184</td>\n",
       "    </tr>\n",
       "    <tr>\n",
       "      <th>std</th>\n",
       "      <td>53286.110082</td>\n",
       "      <td>0.499988</td>\n",
       "      <td>0.816719</td>\n",
       "      <td>0.234091</td>\n",
       "    </tr>\n",
       "    <tr>\n",
       "      <th>min</th>\n",
       "      <td>1.000000</td>\n",
       "      <td>0.000000</td>\n",
       "      <td>1.000000</td>\n",
       "      <td>0.000000</td>\n",
       "    </tr>\n",
       "    <tr>\n",
       "      <th>25%</th>\n",
       "      <td>46147.750000</td>\n",
       "      <td>0.000000</td>\n",
       "      <td>1.000000</td>\n",
       "      <td>0.000000</td>\n",
       "    </tr>\n",
       "    <tr>\n",
       "      <th>50%</th>\n",
       "      <td>92294.500000</td>\n",
       "      <td>1.000000</td>\n",
       "      <td>2.000000</td>\n",
       "      <td>0.000000</td>\n",
       "    </tr>\n",
       "    <tr>\n",
       "      <th>75%</th>\n",
       "      <td>138441.250000</td>\n",
       "      <td>1.000000</td>\n",
       "      <td>3.000000</td>\n",
       "      <td>0.000000</td>\n",
       "    </tr>\n",
       "    <tr>\n",
       "      <th>max</th>\n",
       "      <td>184588.000000</td>\n",
       "      <td>1.000000</td>\n",
       "      <td>3.000000</td>\n",
       "      <td>1.000000</td>\n",
       "    </tr>\n",
       "  </tbody>\n",
       "</table>\n",
       "</div>"
      ],
      "text/plain": [
       "            RecordID   LoggedInFlag       ServerID  VisitPageFlag\n",
       "count  184588.000000  184588.000000  184588.000000  184588.000000\n",
       "mean    92294.500000       0.503657       1.999691       0.058184\n",
       "std     53286.110082       0.499988       0.816719       0.234091\n",
       "min         1.000000       0.000000       1.000000       0.000000\n",
       "25%     46147.750000       0.000000       1.000000       0.000000\n",
       "50%     92294.500000       1.000000       2.000000       0.000000\n",
       "75%    138441.250000       1.000000       3.000000       0.000000\n",
       "max    184588.000000       1.000000       3.000000       1.000000"
      ]
     },
     "execution_count": 3,
     "metadata": {},
     "output_type": "execute_result"
    }
   ],
   "source": [
    "df.describe()"
   ]
  },
  {
   "cell_type": "markdown",
   "id": "e7a544bf",
   "metadata": {},
   "source": [
    "Assuming that some users count visited the website several times, these visits were reduced to 1 visit, so this doesn't affect the final result."
   ]
  },
  {
   "cell_type": "code",
   "execution_count": 4,
   "id": "21830a6c",
   "metadata": {},
   "outputs": [],
   "source": [
    "df = df.groupby(['IP Address', 'LoggedInFlag', 'ServerID'])['VisitPageFlag'].sum()\n",
    "df = df.reset_index(name = \"VisitPageFlagSum\")\n",
    "df[\"VisitPageFlag\"] = df[\"VisitPageFlagSum\"].apply(lambda x: 1 if x>0 else 0)"
   ]
  },
  {
   "cell_type": "code",
   "execution_count": 5,
   "id": "e585c715",
   "metadata": {},
   "outputs": [
    {
     "data": {
      "text/plain": [
       "<AxesSubplot:xlabel='VisitPageFlag', ylabel='Count'>"
      ]
     },
     "execution_count": 5,
     "metadata": {},
     "output_type": "execute_result"
    },
    {
     "data": {
      "image/png": "[encoded data removed]",
      "text/plain": [
       "<Figure size 432x576 with 2 Axes>"
      ]
     },
     "metadata": {
      "needs_background": "light"
     },
     "output_type": "display_data"
    }
   ],
   "source": [
    "import matplotlib.pyplot as plt\n",
    "import seaborn as sns\n",
    "\n",
    "fig, axes = plt.subplots(2, 1, figsize=(6,8))\n",
    "sns.histplot(data=df['ServerID'], ax=axes[0])\n",
    "sns.histplot(data=df['VisitPageFlag'], ax=axes[1])"
   ]
  },
  {
   "cell_type": "markdown",
   "id": "d9778d5e",
   "metadata": {},
   "source": [
    "The data is splitted by ServerID (the first one is for the Treatment sample, the rest are for the Control sample)"
   ]
  },
  {
   "cell_type": "code",
   "execution_count": 6,
   "id": "fedb3aab",
   "metadata": {},
   "outputs": [
    {
     "data": {
      "text/html": [
       "<div>\n",
       "<style scoped>\n",
       "    .dataframe tbody tr th:only-of-type {\n",
       "        vertical-align: middle;\n",
       "    }\n",
       "\n",
       "    .dataframe tbody tr th {\n",
       "        vertical-align: top;\n",
       "    }\n",
       "\n",
       "    .dataframe thead th {\n",
       "        text-align: right;\n",
       "    }\n",
       "</style>\n",
       "<table border=\"1\" class=\"dataframe\">\n",
       "  <thead>\n",
       "    <tr style=\"text-align: right;\">\n",
       "      <th></th>\n",
       "      <th>IP Address</th>\n",
       "      <th>VisitPageFlag</th>\n",
       "      <th>group</th>\n",
       "    </tr>\n",
       "  </thead>\n",
       "  <tbody>\n",
       "    <tr>\n",
       "      <th>0</th>\n",
       "      <td>0.0.108.2</td>\n",
       "      <td>0</td>\n",
       "      <td>Treatment</td>\n",
       "    </tr>\n",
       "    <tr>\n",
       "      <th>1</th>\n",
       "      <td>0.0.109.6</td>\n",
       "      <td>0</td>\n",
       "      <td>Treatment</td>\n",
       "    </tr>\n",
       "    <tr>\n",
       "      <th>2</th>\n",
       "      <td>0.0.111.8</td>\n",
       "      <td>0</td>\n",
       "      <td>Control</td>\n",
       "    </tr>\n",
       "    <tr>\n",
       "      <th>3</th>\n",
       "      <td>0.0.160.9</td>\n",
       "      <td>0</td>\n",
       "      <td>Control</td>\n",
       "    </tr>\n",
       "    <tr>\n",
       "      <th>4</th>\n",
       "      <td>0.0.163.1</td>\n",
       "      <td>0</td>\n",
       "      <td>Control</td>\n",
       "    </tr>\n",
       "  </tbody>\n",
       "</table>\n",
       "</div>"
      ],
      "text/plain": [
       "  IP Address  VisitPageFlag      group\n",
       "0  0.0.108.2              0  Treatment\n",
       "1  0.0.109.6              0  Treatment\n",
       "2  0.0.111.8              0    Control\n",
       "3  0.0.160.9              0    Control\n",
       "4  0.0.163.1              0    Control"
      ]
     },
     "execution_count": 6,
     "metadata": {},
     "output_type": "execute_result"
    }
   ],
   "source": [
    "df['group'] = df['ServerID'].map({1:'Treatment', 2: 'Control', 3: 'Control'})\n",
    "df = df.drop(['ServerID','VisitPageFlagSum', 'LoggedInFlag'], axis=1)\n",
    "df.head()"
   ]
  },
  {
   "cell_type": "code",
   "execution_count": 7,
   "id": "3b410bfe",
   "metadata": {},
   "outputs": [],
   "source": [
    "df_control = df[df['group'] == 'Control'].reset_index(drop=True)\n",
    "df_treatment = df[df['group'] == 'Treatment'].reset_index(drop=True)"
   ]
  },
  {
   "cell_type": "markdown",
   "id": "6bbdbac9",
   "metadata": {},
   "source": [
    "### Control"
   ]
  },
  {
   "cell_type": "code",
   "execution_count": 8,
   "id": "8b749c59",
   "metadata": {},
   "outputs": [
    {
     "data": {
      "text/html": [
       "<div>\n",
       "<style scoped>\n",
       "    .dataframe tbody tr th:only-of-type {\n",
       "        vertical-align: middle;\n",
       "    }\n",
       "\n",
       "    .dataframe tbody tr th {\n",
       "        vertical-align: top;\n",
       "    }\n",
       "\n",
       "    .dataframe thead th {\n",
       "        text-align: right;\n",
       "    }\n",
       "</style>\n",
       "<table border=\"1\" class=\"dataframe\">\n",
       "  <thead>\n",
       "    <tr style=\"text-align: right;\">\n",
       "      <th></th>\n",
       "      <th>count</th>\n",
       "      <th>mean</th>\n",
       "      <th>std</th>\n",
       "      <th>min</th>\n",
       "      <th>25%</th>\n",
       "      <th>50%</th>\n",
       "      <th>75%</th>\n",
       "      <th>max</th>\n",
       "    </tr>\n",
       "  </thead>\n",
       "  <tbody>\n",
       "    <tr>\n",
       "      <th>VisitPageFlag</th>\n",
       "      <td>66460.0</td>\n",
       "      <td>0.092251</td>\n",
       "      <td>0.289382</td>\n",
       "      <td>0.0</td>\n",
       "      <td>0.0</td>\n",
       "      <td>0.0</td>\n",
       "      <td>0.0</td>\n",
       "      <td>1.0</td>\n",
       "    </tr>\n",
       "  </tbody>\n",
       "</table>\n",
       "</div>"
      ],
      "text/plain": [
       "                 count      mean       std  min  25%  50%  75%  max\n",
       "VisitPageFlag  66460.0  0.092251  0.289382  0.0  0.0  0.0  0.0  1.0"
      ]
     },
     "execution_count": 8,
     "metadata": {},
     "output_type": "execute_result"
    }
   ],
   "source": [
    "df_control.describe().T"
   ]
  },
  {
   "cell_type": "code",
   "execution_count": 9,
   "id": "64484396",
   "metadata": {},
   "outputs": [
    {
     "data": {
      "text/plain": [
       "0.09225097803189888"
      ]
     },
     "execution_count": 9,
     "metadata": {},
     "output_type": "execute_result"
    }
   ],
   "source": [
    "# the ratio of those who visit the target page for control sample\n",
    "control_ratio_visit = df_control[df_control['VisitPageFlag'] == 1].shape[0] / df_control.shape[0]\n",
    "control_ratio_visit "
   ]
  },
  {
   "cell_type": "markdown",
   "id": "573d1100",
   "metadata": {},
   "source": [
    "### Treatment"
   ]
  },
  {
   "cell_type": "code",
   "execution_count": 10,
   "id": "b398aa99",
   "metadata": {},
   "outputs": [
    {
     "data": {
      "text/html": [
       "<div>\n",
       "<style scoped>\n",
       "    .dataframe tbody tr th:only-of-type {\n",
       "        vertical-align: middle;\n",
       "    }\n",
       "\n",
       "    .dataframe tbody tr th {\n",
       "        vertical-align: top;\n",
       "    }\n",
       "\n",
       "    .dataframe thead th {\n",
       "        text-align: right;\n",
       "    }\n",
       "</style>\n",
       "<table border=\"1\" class=\"dataframe\">\n",
       "  <thead>\n",
       "    <tr style=\"text-align: right;\">\n",
       "      <th></th>\n",
       "      <th>count</th>\n",
       "      <th>mean</th>\n",
       "      <th>std</th>\n",
       "      <th>min</th>\n",
       "      <th>25%</th>\n",
       "      <th>50%</th>\n",
       "      <th>75%</th>\n",
       "      <th>max</th>\n",
       "    </tr>\n",
       "  </thead>\n",
       "  <tbody>\n",
       "    <tr>\n",
       "      <th>VisitPageFlag</th>\n",
       "      <td>33303.0</td>\n",
       "      <td>0.115515</td>\n",
       "      <td>0.319647</td>\n",
       "      <td>0.0</td>\n",
       "      <td>0.0</td>\n",
       "      <td>0.0</td>\n",
       "      <td>0.0</td>\n",
       "      <td>1.0</td>\n",
       "    </tr>\n",
       "  </tbody>\n",
       "</table>\n",
       "</div>"
      ],
      "text/plain": [
       "                 count      mean       std  min  25%  50%  75%  max\n",
       "VisitPageFlag  33303.0  0.115515  0.319647  0.0  0.0  0.0  0.0  1.0"
      ]
     },
     "execution_count": 10,
     "metadata": {},
     "output_type": "execute_result"
    }
   ],
   "source": [
    "df_treatment.describe().T"
   ]
  },
  {
   "cell_type": "code",
   "execution_count": 11,
   "id": "ed5c772a",
   "metadata": {},
   "outputs": [
    {
     "data": {
      "text/plain": [
       "0.11551511875806984"
      ]
     },
     "execution_count": 11,
     "metadata": {},
     "output_type": "execute_result"
    }
   ],
   "source": [
    "# the ratio of those who visit the target page for treatment sample\n",
    "treatment_ratio_visit = df_treatment[df_treatment['VisitPageFlag'] == 1].shape[0] / df_treatment.shape[0]\n",
    "treatment_ratio_visit "
   ]
  },
  {
   "cell_type": "markdown",
   "id": "bb84717c",
   "metadata": {},
   "source": [
    "### Normality Assumption\n",
    "\n",
    "H0 : The assumption of normality is provided.     \n",
    "H1 : The assumption of normality is not provided.\n",
    "\n",
    "alpha - 0.05"
   ]
  },
  {
   "cell_type": "code",
   "execution_count": 12,
   "id": "2ce5b0de",
   "metadata": {},
   "outputs": [],
   "source": [
    "from scipy.stats import shapiro # Shapiro-Wilk test\n",
    "from scipy.stats import kstest # Kolmogorov–Smirnov test"
   ]
  },
  {
   "cell_type": "code",
   "execution_count": 13,
   "id": "4080d542",
   "metadata": {},
   "outputs": [
    {
     "name": "stdout",
     "output_type": "stream",
     "text": [
      "The assumption of normality is not provided\n"
     ]
    },
    {
     "name": "stderr",
     "output_type": "stream",
     "text": [
      "/Users/vittoria/opt/anaconda3/lib/python3.9/site-packages/scipy/stats/morestats.py:1760: UserWarning: p-value may not be accurate for N > 5000.\n",
      "  warnings.warn(\"p-value may not be accurate for N > 5000.\")\n"
     ]
    }
   ],
   "source": [
    "test_statistic, p_value = shapiro(df['VisitPageFlag'])\n",
    "if p_value > 0.05:\n",
    "    print('The assumption of normality is provided')\n",
    "else:\n",
    "    print('The assumption of normality is not provided')"
   ]
  },
  {
   "cell_type": "code",
   "execution_count": 14,
   "id": "af7f36e8",
   "metadata": {},
   "outputs": [
    {
     "name": "stdout",
     "output_type": "stream",
     "text": [
      "The assumption of normality is not provided\n"
     ]
    }
   ],
   "source": [
    "result = kstest(df['VisitPageFlag'], \"norm\")\n",
    "if result.pvalue > 0.05:\n",
    "    print('The assumption of normality is provided')\n",
    "else:\n",
    "    print('The assumption of normality is not provided')"
   ]
  },
  {
   "cell_type": "markdown",
   "id": "9d8770a8",
   "metadata": {},
   "source": [
    "### Variance Homogeneity     \n",
    "H0 : Variances are homogeneous    \n",
    "H1 : Variances are not homogeneous \n",
    "\n",
    "alpha - 0.05"
   ]
  },
  {
   "cell_type": "code",
   "execution_count": 15,
   "id": "ab07df41",
   "metadata": {},
   "outputs": [],
   "source": [
    "from scipy.stats import levene\n",
    "# Levene test for equal variances."
   ]
  },
  {
   "cell_type": "code",
   "execution_count": 16,
   "id": "6ecf0941",
   "metadata": {},
   "outputs": [
    {
     "name": "stdout",
     "output_type": "stream",
     "text": [
      "Variances are not homogeneous\n"
     ]
    }
   ],
   "source": [
    "test_stat, pvalue = levene(df_control['VisitPageFlag'], df_treatment['VisitPageFlag'])\n",
    "if p_value > 0.05:\n",
    "    print('Variances are homogeneous') \n",
    "else:\n",
    "    print('Variances are not homogeneous')"
   ]
  },
  {
   "cell_type": "markdown",
   "id": "a30ffb43",
   "metadata": {},
   "source": [
    "### Mann-Whitney U test    \n",
    "(The U test (non-parametric test) is performed if normality and homogeneity of variance are not provided)\n",
    "\n",
    "In terms of click rate to the desired page:      \n",
    "H0 : There is no significant difference between the two groups.    \n",
    "H1 : There is a difference between the two groups.\n",
    "\n",
    "alpha - 0.05"
   ]
  },
  {
   "cell_type": "code",
   "execution_count": 17,
   "id": "06ea8378",
   "metadata": {},
   "outputs": [],
   "source": [
    "from scipy.stats.mstats import mannwhitneyu"
   ]
  },
  {
   "cell_type": "code",
   "execution_count": 18,
   "id": "044406a8",
   "metadata": {},
   "outputs": [
    {
     "name": "stdout",
     "output_type": "stream",
     "text": [
      "There is a difference between the two groups in terms of click rate to the desired page.\n"
     ]
    }
   ],
   "source": [
    "statistic, p_value = mannwhitneyu(df_control['VisitPageFlag'], df_treatment['VisitPageFlag'])\n",
    "if p_value > 0.05:\n",
    "    print('There is no significant difference between the two groups in terms of click rate to the desired page.') \n",
    "else:\n",
    "    print('There is a difference between the two groups in terms of click rate to the desired page.')\n"
   ]
  },
  {
   "cell_type": "code",
   "execution_count": 19,
   "id": "b4c182fe",
   "metadata": {},
   "outputs": [
    {
     "data": {
      "text/html": [
       "<div>\n",
       "<style scoped>\n",
       "    .dataframe tbody tr th:only-of-type {\n",
       "        vertical-align: middle;\n",
       "    }\n",
       "\n",
       "    .dataframe tbody tr th {\n",
       "        vertical-align: top;\n",
       "    }\n",
       "\n",
       "    .dataframe thead th {\n",
       "        text-align: right;\n",
       "    }\n",
       "</style>\n",
       "<table border=\"1\" class=\"dataframe\">\n",
       "  <thead>\n",
       "    <tr style=\"text-align: right;\">\n",
       "      <th></th>\n",
       "      <th></th>\n",
       "      <th>IP Address</th>\n",
       "    </tr>\n",
       "    <tr>\n",
       "      <th>group</th>\n",
       "      <th>VisitPageFlag</th>\n",
       "      <th></th>\n",
       "    </tr>\n",
       "  </thead>\n",
       "  <tbody>\n",
       "    <tr>\n",
       "      <th rowspan=\"2\" valign=\"top\">Control</th>\n",
       "      <th>0</th>\n",
       "      <td>60329</td>\n",
       "    </tr>\n",
       "    <tr>\n",
       "      <th>1</th>\n",
       "      <td>6131</td>\n",
       "    </tr>\n",
       "    <tr>\n",
       "      <th rowspan=\"2\" valign=\"top\">Treatment</th>\n",
       "      <th>0</th>\n",
       "      <td>29456</td>\n",
       "    </tr>\n",
       "    <tr>\n",
       "      <th>1</th>\n",
       "      <td>3847</td>\n",
       "    </tr>\n",
       "  </tbody>\n",
       "</table>\n",
       "</div>"
      ],
      "text/plain": [
       "                         IP Address\n",
       "group     VisitPageFlag            \n",
       "Control   0                   60329\n",
       "          1                    6131\n",
       "Treatment 0                   29456\n",
       "          1                    3847"
      ]
     },
     "execution_count": 19,
     "metadata": {},
     "output_type": "execute_result"
    }
   ],
   "source": [
    "pdd = df.groupby(['group','VisitPageFlag']).count()\n",
    "pdd "
   ]
  },
  {
   "cell_type": "code",
   "execution_count": 20,
   "id": "bbe6ad08",
   "metadata": {},
   "outputs": [
    {
     "data": {
      "text/html": [
       "<div>\n",
       "<style scoped>\n",
       "    .dataframe tbody tr th:only-of-type {\n",
       "        vertical-align: middle;\n",
       "    }\n",
       "\n",
       "    .dataframe tbody tr th {\n",
       "        vertical-align: top;\n",
       "    }\n",
       "\n",
       "    .dataframe thead th {\n",
       "        text-align: right;\n",
       "    }\n",
       "</style>\n",
       "<table border=\"1\" class=\"dataframe\">\n",
       "  <thead>\n",
       "    <tr style=\"text-align: right;\">\n",
       "      <th>VisitPageFlag</th>\n",
       "      <th>0</th>\n",
       "      <th>1</th>\n",
       "      <th>All</th>\n",
       "    </tr>\n",
       "    <tr>\n",
       "      <th>group</th>\n",
       "      <th></th>\n",
       "      <th></th>\n",
       "      <th></th>\n",
       "    </tr>\n",
       "  </thead>\n",
       "  <tbody>\n",
       "    <tr>\n",
       "      <th>Control</th>\n",
       "      <td>60329</td>\n",
       "      <td>6131</td>\n",
       "      <td>66460</td>\n",
       "    </tr>\n",
       "    <tr>\n",
       "      <th>Treatment</th>\n",
       "      <td>29456</td>\n",
       "      <td>3847</td>\n",
       "      <td>33303</td>\n",
       "    </tr>\n",
       "    <tr>\n",
       "      <th>All</th>\n",
       "      <td>89785</td>\n",
       "      <td>9978</td>\n",
       "      <td>99763</td>\n",
       "    </tr>\n",
       "  </tbody>\n",
       "</table>\n",
       "</div>"
      ],
      "text/plain": [
       "VisitPageFlag      0     1    All\n",
       "group                            \n",
       "Control        60329  6131  66460\n",
       "Treatment      29456  3847  33303\n",
       "All            89785  9978  99763"
      ]
     },
     "execution_count": 20,
     "metadata": {},
     "output_type": "execute_result"
    }
   ],
   "source": [
    "group_count = df.groupby(['group', 'VisitPageFlag'])['group'].count().reset_index(name='Count')\n",
    "group_count = pd.crosstab(index=group_count['group'], columns=group_count['VisitPageFlag'], \n",
    "            values=group_count['Count'], aggfunc=sum, margins=True)\n",
    "group_count"
   ]
  },
  {
   "cell_type": "code",
   "execution_count": 21,
   "id": "d716a7f2",
   "metadata": {},
   "outputs": [
    {
     "data": {
      "text/html": [
       "<div>\n",
       "<style scoped>\n",
       "    .dataframe tbody tr th:only-of-type {\n",
       "        vertical-align: middle;\n",
       "    }\n",
       "\n",
       "    .dataframe tbody tr th {\n",
       "        vertical-align: top;\n",
       "    }\n",
       "\n",
       "    .dataframe thead th {\n",
       "        text-align: right;\n",
       "    }\n",
       "</style>\n",
       "<table border=\"1\" class=\"dataframe\">\n",
       "  <thead>\n",
       "    <tr style=\"text-align: right;\">\n",
       "      <th>VisitPageFlag</th>\n",
       "      <th>0</th>\n",
       "      <th>1</th>\n",
       "      <th>All</th>\n",
       "    </tr>\n",
       "    <tr>\n",
       "      <th>group</th>\n",
       "      <th></th>\n",
       "      <th></th>\n",
       "      <th></th>\n",
       "    </tr>\n",
       "  </thead>\n",
       "  <tbody>\n",
       "    <tr>\n",
       "      <th>Control</th>\n",
       "      <td>0.907749</td>\n",
       "      <td>0.092251</td>\n",
       "      <td>1.0</td>\n",
       "    </tr>\n",
       "    <tr>\n",
       "      <th>Treatment</th>\n",
       "      <td>0.884485</td>\n",
       "      <td>0.115515</td>\n",
       "      <td>1.0</td>\n",
       "    </tr>\n",
       "    <tr>\n",
       "      <th>All</th>\n",
       "      <td>0.899983</td>\n",
       "      <td>0.100017</td>\n",
       "      <td>1.0</td>\n",
       "    </tr>\n",
       "  </tbody>\n",
       "</table>\n",
       "</div>"
      ],
      "text/plain": [
       "VisitPageFlag         0         1  All\n",
       "group                                 \n",
       "Control        0.907749  0.092251  1.0\n",
       "Treatment      0.884485  0.115515  1.0\n",
       "All            0.899983  0.100017  1.0"
      ]
     },
     "execution_count": 21,
     "metadata": {},
     "output_type": "execute_result"
    }
   ],
   "source": [
    "groupped = group_count.div(group_count['All'], axis=0)\n",
    "groupped"
   ]
  },
  {
   "cell_type": "code",
   "execution_count": 22,
   "id": "1bdc4274",
   "metadata": {},
   "outputs": [
    {
     "data": {
      "text/plain": [
       "33303"
      ]
     },
     "execution_count": 22,
     "metadata": {},
     "output_type": "execute_result"
    }
   ],
   "source": [
    "group_count.loc['Treatment']['All']"
   ]
  },
  {
   "cell_type": "code",
   "execution_count": 23,
   "id": "868a3ef6",
   "metadata": {},
   "outputs": [
    {
     "data": {
      "text/plain": [
       "0.11551511875806984"
      ]
     },
     "execution_count": 23,
     "metadata": {},
     "output_type": "execute_result"
    }
   ],
   "source": [
    "groupped.loc['Treatment'][1] "
   ]
  },
  {
   "cell_type": "markdown",
   "id": "655ffe91",
   "metadata": {},
   "source": [
    "#### Confidence Interval"
   ]
  },
  {
   "cell_type": "code",
   "execution_count": 24,
   "id": "36faf884",
   "metadata": {},
   "outputs": [],
   "source": [
    "import numpy as np\n",
    "\n",
    "def confidence_interval(T, N, z=0.95):\n",
    "    if z == 0.9:\n",
    "        z = 1.645\n",
    "    elif z == 0.95:\n",
    "        z = 1.96\n",
    "    else:\n",
    "        z = 2.58\n",
    "    return (np.round((T - z * ((T*(1-T))/N)), 5), np.round((T + z * ((T*(1-T))/N)), 5))"
   ]
  },
  {
   "cell_type": "code",
   "execution_count": 25,
   "id": "94614809",
   "metadata": {},
   "outputs": [
    {
     "name": "stdout",
     "output_type": "stream",
     "text": [
      "Treatment (0.11551, 0.11552)\n"
     ]
    }
   ],
   "source": [
    "print('Treatment', confidence_interval(groupped.loc['Treatment'][1], group_count.loc['Treatment']['All']))"
   ]
  },
  {
   "cell_type": "markdown",
   "id": "4061dcec",
   "metadata": {},
   "source": [
    "### Conclusion: \n",
    "**The rate increased to 11.55% in the Treatment group, and its increase is not accidental, but has been proven statistically.**"
   ]
  }
 ],
 "metadata": {
  "kernelspec": {
   "display_name": "Python 3 (ipykernel)",
   "language": "python",
   "name": "python3"
  },
  "language_info": {
   "codemirror_mode": {
    "name": "ipython",
    "version": 3
   },
   "file_extension": ".py",
   "mimetype": "text/x-python",
   "name": "python",
   "nbconvert_exporter": "python",
   "pygments_lexer": "ipython3",
   "version": "3.9.12"
  }
 },
 "nbformat": 4,
 "nbformat_minor": 5
}
